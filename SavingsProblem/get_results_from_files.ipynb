{
 "cells": [
  {
   "cell_type": "code",
   "execution_count": 13,
   "metadata": {},
   "outputs": [
    {
     "name": "stdout",
     "output_type": "stream",
     "text": [
      "-1.8810733837011617\n"
     ]
    }
   ],
   "source": [
    "#17 percent\n",
    "import math \n",
    "total_r = 0\n",
    "t = 1\n",
    "for number in  [0.75, 0.7383750000000001, 1.0855957499999997, 0.801755874, 0.6331867014915, 0.9054569831328451]:\n",
    "    reward = -math.exp(-number)\n",
    "    total_r += math.pow(0.9, t) * reward\n",
    "    t+=1\n",
    "\n",
    "print(total_r)"
   ]
  },
  {
   "cell_type": "code",
   "execution_count": 10,
   "metadata": {},
   "outputs": [
    {
     "name": "stdout",
     "output_type": "stream",
     "text": [
      "-1.963084736820119\n"
     ]
    }
   ],
   "source": [
    "#7%\n",
    "total_r = 0\n",
    "t = 1\n",
    "for number in [0.84941, 0.81170, 0.77399, 0.73630, 0.69859, 0.66089]:\n",
    "    reward = -math.exp(-number)\n",
    "    total_r += math.pow(0.9, t) * reward\n",
    "    t+=1\n",
    "\n",
    "print(total_r)"
   ]
  },
  {
   "cell_type": "code",
   "execution_count": 6,
   "metadata": {},
   "outputs": [
    {
     "name": "stdout",
     "output_type": "stream",
     "text": [
      "-1.9698683067317277\n"
     ]
    }
   ],
   "source": [
    "import math \n",
    "#my 17% for 0.85 w \n",
    "total_r = 0\n",
    "t=1\n",
    "for number in [0.7, 0.89115, 0.80796975, 0.707753421375, 0.7735239357470626, 0.6771850455676557]:\n",
    "    reward = -math.exp(-number)\n",
    "    total_r += math.pow(0.9, t) * reward\n",
    "    t+=1\n",
    "\n",
    "print(total_r)"
   ]
  },
  {
   "cell_type": "code",
   "execution_count": 11,
   "metadata": {},
   "outputs": [
    {
     "name": "stdout",
     "output_type": "stream",
     "text": [
      "-1.9671662843059616\n"
     ]
    }
   ],
   "source": [
    "#my 7%\n",
    "total_r = 0\n",
    "t=1\n",
    "for number in [0.9, 0.6942, 0.798848, 0.704337326, 0.7697903875090002, 0.6739164937919702]:\n",
    "    reward = -math.exp(-number)\n",
    "    total_r += math.pow(0.9, t) * reward\n",
    "    t+=1\n",
    "\n",
    "print(total_r)"
   ]
  },
  {
   "cell_type": "code",
   "execution_count": 16,
   "metadata": {},
   "outputs": [
    {
     "name": "stdout",
     "output_type": "stream",
     "text": [
      "-1.9671731493958662\n"
     ]
    }
   ],
   "source": [
    "#my 7% rounded down \n",
    "total_r = 0\n",
    "t=1\n",
    "for number in [0.9, 0.6942, 0.79884, 0.70433, 0.76979, 0.67391]:\n",
    "    reward = -math.exp(-number)\n",
    "    total_r += math.pow(0.9, t) * reward\n",
    "    t+=1\n",
    "\n",
    "print(total_r)"
   ]
  },
  {
   "cell_type": "code",
   "execution_count": null,
   "metadata": {},
   "outputs": [],
   "source": [
    "import math"
   ]
  },
  {
   "cell_type": "code",
   "execution_count": 10,
   "metadata": {},
   "outputs": [
    {
     "name": "stdout",
     "output_type": "stream",
     "text": [
      "1.05\n",
      "1.1025\n",
      "1.1576250000000001\n",
      "1.2155062500000002\n",
      "1.2762815625000004\n",
      "1.3400956406250004\n",
      "[0.09999999999999998, 0.46279999999999993, 0.7988480000000001, 0.1720678844672898, 0.6298284988710001, 0.0]\n"
     ]
    }
   ],
   "source": [
    "#7%\n",
    "# change asset numbers at start of next period such that they are correct \n",
    "assets = [1.157, 1.597696, 2.01239236, 1.3996188863800003, 0.6739164937919702, 0.0]\n",
    "t = 1 # we start at t = 1 go to t = 6\n",
    "interest = 0.07\n",
    "total_percentage = 107.0\n",
    "income = 1.05\n",
    "new_assets = []\n",
    "\n",
    "for asset in assets:\n",
    "    current_income = math.pow(income, t)\n",
    "    print(current_income)\n",
    "    if t > 4:\n",
    "        current_income = 0\n",
    "    asset = asset - current_income\n",
    "    one_percent = asset / total_percentage\n",
    "    asset = one_percent * 100.0\n",
    "    new_assets.append(asset)\n",
    "    t += 1\n",
    "\n",
    "print(new_assets)\n"
   ]
  },
  {
   "cell_type": "code",
   "execution_count": 19,
   "metadata": {},
   "outputs": [
    {
     "name": "stdout",
     "output_type": "stream",
     "text": [
      "0 0.0\n",
      "1 0.2222222222222222\n",
      "2 0.4444444444444444\n",
      "3 0.6666666666666666\n",
      "4 0.8888888888888888\n",
      "5 1.1111111111111112\n",
      "6 1.3333333333333333\n",
      "7 1.5555555555555554\n",
      "8 1.7777777777777777\n",
      "9 2.0\n"
     ]
    }
   ],
   "source": [
    "import numpy as np \n",
    "upperbounds = np.linspace(0, 2, num=10)\n",
    "upperbounds\n",
    "for i, uppebound in enumerate(upperbounds):\n",
    "    print(i, uppebound)\n"
   ]
  }
 ],
 "metadata": {
  "kernelspec": {
   "display_name": "Python 3",
   "language": "python",
   "name": "python3"
  },
  "language_info": {
   "codemirror_mode": {
    "name": "ipython",
    "version": 3
   },
   "file_extension": ".py",
   "mimetype": "text/x-python",
   "name": "python",
   "nbconvert_exporter": "python",
   "pygments_lexer": "ipython3",
   "version": "3.9.1"
  },
  "orig_nbformat": 4
 },
 "nbformat": 4,
 "nbformat_minor": 2
}
